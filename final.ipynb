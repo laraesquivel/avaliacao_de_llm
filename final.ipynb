{
 "cells": [
  {
   "cell_type": "code",
   "execution_count": 3,
   "id": "dff2043b",
   "metadata": {},
   "outputs": [],
   "source": [
    "import re\n",
    "\n",
    "from dotenv import load_dotenv\n",
    "import pandas as pd\n",
    "import tiktoken\n",
    "# LangChain imports\n",
    "from langchain.text_splitter import CharacterTextSplitter\n",
    "from langchain.chains import RetrievalQA, LLMChain\n",
    "from langchain.prompts import PromptTemplate\n",
    "from langchain_community.document_loaders import TextLoader\n",
    "from langchain_google_genai import ChatGoogleGenerativeAI\n"
   ]
  },
  {
   "cell_type": "markdown",
   "id": "7ad82a75",
   "metadata": {},
   "source": [
    "# Analise de Desemepnho de LLM"
   ]
  },
  {
   "cell_type": "code",
   "execution_count": null,
   "id": "fd30b94e",
   "metadata": {},
   "outputs": [],
   "source": [
    "\n",
    "import re\n",
    "\n",
    "def parse_messages_from_text(full_text):\n",
    "    full_text = full_text.replace('\\u200e', '')  # remove caractere invisível comum no WhatsApp\n",
    "\n",
    "    # Regex robusto para capturar cada mensagem (com quebra de linha dentro do conteúdo)\n",
    "    pattern = r'''\n",
    "        ^\\[(\\d{2}/\\d{2}/\\d{2}),\\s(\\d{2}:\\d{2}:\\d{2})\\]    # data e hora no início da linha\n",
    "        \\s(.+?):                                          # autor (termina no primeiro :)\n",
    "        \\s(.*?)                                           # conteúdo da mensagem\n",
    "        (?=^\\[\\d{2}/\\d{2}/\\d{2},\\s\\d{2}:\\d{2}:\\d{2}\\]|\\Z)  # lookahead: próxima msg ou fim do texto\n",
    "    '''\n",
    "\n",
    "    matches = re.finditer(pattern, full_text, re.DOTALL | re.MULTILINE | re.VERBOSE)\n",
    "\n",
    "    structured = []\n",
    "    spans = []\n",
    "\n",
    "    for match in matches:\n",
    "        spans.append(match.span())\n",
    "        structured.append({\n",
    "            'date': match.group(1),\n",
    "            'time': match.group(2),\n",
    "            'author': match.group(3).strip(),\n",
    "            'content': match.group(4).strip()\n",
    "        })\n",
    "\n",
    "    # Extrair o texto que ficou de fora (não estruturado)\n",
    "    unstructured = []\n",
    "    last_end = 0\n",
    "    for start, end in spans:\n",
    "        if start > last_end:\n",
    "            chunk = full_text[last_end:start].strip()\n",
    "            if chunk:\n",
    "                unstructured.append(chunk)\n",
    "        last_end = end\n",
    "\n",
    "    if last_end < len(full_text):\n",
    "        chunk = full_text[last_end:].strip()\n",
    "        if chunk:\n",
    "            unstructured.append(chunk)\n",
    "\n",
    "    return structured, unstructured\n",
    "\n",
    "\n",
    "\n",
    "def contar_tokens(texto, modelo=\"gpt-4\"):\n",
    "    tokenizer = tiktoken.encoding_for_model(modelo)\n",
    "    tokens = tokenizer.encode(texto)\n",
    "    return len(tokens)\n"
   ]
  },
  {
   "cell_type": "code",
   "execution_count": 23,
   "id": "51bcdbcd",
   "metadata": {},
   "outputs": [
    {
     "name": "stdout",
     "output_type": "stream",
     "text": [
      "1231962\n"
     ]
    },
    {
     "ename": "TypeError",
     "evalue": "'re.Match' object is not iterable",
     "output_type": "error",
     "traceback": [
      "\u001b[31m---------------------------------------------------------------------------\u001b[39m",
      "\u001b[31mTypeError\u001b[39m                                 Traceback (most recent call last)",
      "\u001b[36mCell\u001b[39m\u001b[36m \u001b[39m\u001b[32mIn[23]\u001b[39m\u001b[32m, line 5\u001b[39m\n\u001b[32m      3\u001b[39m conteudo = arquivo.read()\n\u001b[32m      4\u001b[39m \u001b[38;5;28mprint\u001b[39m(contar_tokens(conteudo))\n\u001b[32m----> \u001b[39m\u001b[32m5\u001b[39m final, un = \u001b[43mparse_messages_from_text\u001b[49m\u001b[43m(\u001b[49m\u001b[43mconteudo\u001b[49m\u001b[43m)\u001b[49m\n\u001b[32m      6\u001b[39m \u001b[38;5;28mprint\u001b[39m(un)\n\u001b[32m      8\u001b[39m \u001b[38;5;28;01mwith\u001b[39;00m \u001b[38;5;28mopen\u001b[39m(\u001b[33m\"\u001b[39m\u001b[33mnao_estruturadas.txt\u001b[39m\u001b[33m\"\u001b[39m, \u001b[33m\"\u001b[39m\u001b[33mw\u001b[39m\u001b[33m\"\u001b[39m, encoding=\u001b[33m\"\u001b[39m\u001b[33mutf-8\u001b[39m\u001b[33m\"\u001b[39m) \u001b[38;5;28;01mas\u001b[39;00m f:\n",
      "\u001b[36mCell\u001b[39m\u001b[36m \u001b[39m\u001b[32mIn[22]\u001b[39m\u001b[32m, line 19\u001b[39m, in \u001b[36mparse_messages_from_text\u001b[39m\u001b[34m(full_text)\u001b[39m\n\u001b[32m     16\u001b[39m structured = []\n\u001b[32m     17\u001b[39m spans = []\n\u001b[32m---> \u001b[39m\u001b[32m19\u001b[39m \u001b[43m\u001b[49m\u001b[38;5;28;43;01mfor\u001b[39;49;00m\u001b[43m \u001b[49m\u001b[43mmatch\u001b[49m\u001b[43m \u001b[49m\u001b[38;5;129;43;01min\u001b[39;49;00m\u001b[43m \u001b[49m\u001b[43mmatches\u001b[49m\u001b[43m:\u001b[49m\n\u001b[32m     20\u001b[39m \u001b[43m    \u001b[49m\u001b[43mspans\u001b[49m\u001b[43m.\u001b[49m\u001b[43mappend\u001b[49m\u001b[43m(\u001b[49m\u001b[43mmatch\u001b[49m\u001b[43m.\u001b[49m\u001b[43mspan\u001b[49m\u001b[43m(\u001b[49m\u001b[43m)\u001b[49m\u001b[43m)\u001b[49m\n\u001b[32m     21\u001b[39m \u001b[43m    \u001b[49m\u001b[43mstructured\u001b[49m\u001b[43m.\u001b[49m\u001b[43mappend\u001b[49m\u001b[43m(\u001b[49m\u001b[43m{\u001b[49m\n\u001b[32m     22\u001b[39m \u001b[43m        \u001b[49m\u001b[33;43m'\u001b[39;49m\u001b[33;43mdate\u001b[39;49m\u001b[33;43m'\u001b[39;49m\u001b[43m:\u001b[49m\u001b[43m \u001b[49m\u001b[43mmatch\u001b[49m\u001b[43m.\u001b[49m\u001b[43mgroup\u001b[49m\u001b[43m(\u001b[49m\u001b[32;43m1\u001b[39;49m\u001b[43m)\u001b[49m\u001b[43m,\u001b[49m\n\u001b[32m     23\u001b[39m \u001b[43m        \u001b[49m\u001b[33;43m'\u001b[39;49m\u001b[33;43mtime\u001b[39;49m\u001b[33;43m'\u001b[39;49m\u001b[43m:\u001b[49m\u001b[43m \u001b[49m\u001b[43mmatch\u001b[49m\u001b[43m.\u001b[49m\u001b[43mgroup\u001b[49m\u001b[43m(\u001b[49m\u001b[32;43m2\u001b[39;49m\u001b[43m)\u001b[49m\u001b[43m,\u001b[49m\n\u001b[32m     24\u001b[39m \u001b[43m        \u001b[49m\u001b[33;43m'\u001b[39;49m\u001b[33;43mauthor\u001b[39;49m\u001b[33;43m'\u001b[39;49m\u001b[43m:\u001b[49m\u001b[43m \u001b[49m\u001b[43mmatch\u001b[49m\u001b[43m.\u001b[49m\u001b[43mgroup\u001b[49m\u001b[43m(\u001b[49m\u001b[32;43m3\u001b[39;49m\u001b[43m)\u001b[49m\u001b[43m.\u001b[49m\u001b[43mstrip\u001b[49m\u001b[43m(\u001b[49m\u001b[43m)\u001b[49m\u001b[43m,\u001b[49m\n\u001b[32m     25\u001b[39m \u001b[43m        \u001b[49m\u001b[33;43m'\u001b[39;49m\u001b[33;43mcontent\u001b[39;49m\u001b[33;43m'\u001b[39;49m\u001b[43m:\u001b[49m\u001b[43m \u001b[49m\u001b[43mmatch\u001b[49m\u001b[43m.\u001b[49m\u001b[43mgroup\u001b[49m\u001b[43m(\u001b[49m\u001b[32;43m4\u001b[39;49m\u001b[43m)\u001b[49m\u001b[43m.\u001b[49m\u001b[43mstrip\u001b[49m\u001b[43m(\u001b[49m\u001b[43m)\u001b[49m\n\u001b[32m     26\u001b[39m \u001b[43m    \u001b[49m\u001b[43m}\u001b[49m\u001b[43m)\u001b[49m\n",
      "\u001b[31mTypeError\u001b[39m: 're.Match' object is not iterable"
     ]
    }
   ],
   "source": [
    "final = None\n",
    "with open('_chat.txt', 'r', encoding='utf-8') as arquivo:\n",
    "    conteudo = arquivo.read()\n",
    "    print(contar_tokens(conteudo))\n",
    "    final, un = parse_messages_from_text(conteudo)\n",
    "    print(un)\n",
    "\n",
    "    with open(\"nao_estruturadas.txt\", \"w\", encoding=\"utf-8\") as f:\n",
    "        for m in un:\n",
    "            f.write(m + \"\\n\\n\")\n",
    "\n",
    "df = pd.DataFrame(final)\n",
    "df.to_csv('structed.csv', index=False, encoding='utf-8')\n",
    "df['mensagem_formatada'] = df['date'] + ' ' + df['time'] + ' ' + df['author'] + \": \" + df['content']\n",
    "\n",
    "contexto = ' '.join(df['mensagem_formatada'])\n",
    "print(contar_tokens(contexto))\n",
    "print(len(contexto.encode('utf-8'))/1024**2)"
   ]
  }
 ],
 "metadata": {
  "kernelspec": {
   "display_name": "tcc-whatsapp-kifhxB1V-py3.11",
   "language": "python",
   "name": "python3"
  },
  "language_info": {
   "codemirror_mode": {
    "name": "ipython",
    "version": 3
   },
   "file_extension": ".py",
   "mimetype": "text/x-python",
   "name": "python",
   "nbconvert_exporter": "python",
   "pygments_lexer": "ipython3",
   "version": "3.11.9"
  }
 },
 "nbformat": 4,
 "nbformat_minor": 5
}
